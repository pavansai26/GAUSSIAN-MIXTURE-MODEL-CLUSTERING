{
  "nbformat": 4,
  "nbformat_minor": 0,
  "metadata": {
    "colab": {
      "name": "GAUSSIAN MIXTURE MODEL CLUSTERING.ipynb",
      "provenance": [],
      "private_outputs": true,
      "authorship_tag": "ABX9TyNw11STS+WnLUPaXrnfHrXc",
      "include_colab_link": true
    },
    "kernelspec": {
      "name": "python3",
      "display_name": "Python 3"
    },
    "accelerator": "GPU"
  },
  "cells": [
    {
      "cell_type": "markdown",
      "metadata": {
        "id": "view-in-github",
        "colab_type": "text"
      },
      "source": [
        "<a href=\"https://colab.research.google.com/github/pavansai26/GAUSSIAN-MIXTURE-MODEL-CLUSTERING/blob/master/GAUSSIAN_MIXTURE_MODEL_CLUSTERING.ipynb\" target=\"_parent\"><img src=\"https://colab.research.google.com/assets/colab-badge.svg\" alt=\"Open In Colab\"/></a>"
      ]
    },
    {
      "cell_type": "code",
      "metadata": {
        "id": "D_HknJYQQFCv",
        "colab_type": "code",
        "colab": {}
      },
      "source": [
        "from sklearn.mixture import GaussianMixture"
      ],
      "execution_count": 0,
      "outputs": []
    },
    {
      "cell_type": "code",
      "metadata": {
        "id": "IHU840j_Qhah",
        "colab_type": "code",
        "colab": {}
      },
      "source": [
        "import matplotlib.pyplot as plt\n"
      ],
      "execution_count": 0,
      "outputs": []
    },
    {
      "cell_type": "code",
      "metadata": {
        "id": "fyXAP8UFQp3f",
        "colab_type": "code",
        "colab": {}
      },
      "source": [
        "from mpl_toolkits.mplot3d import Axes3D"
      ],
      "execution_count": 0,
      "outputs": []
    },
    {
      "cell_type": "code",
      "metadata": {
        "id": "EDGhkdKVQxit",
        "colab_type": "code",
        "colab": {}
      },
      "source": [
        "import numpy as np\n"
      ],
      "execution_count": 0,
      "outputs": []
    },
    {
      "cell_type": "code",
      "metadata": {
        "id": "_89zfqvfQ1ER",
        "colab_type": "code",
        "colab": {}
      },
      "source": [
        "import pandas as pd"
      ],
      "execution_count": 0,
      "outputs": []
    },
    {
      "cell_type": "code",
      "metadata": {
        "id": "NN5p9pW0Q3p-",
        "colab_type": "code",
        "colab": {}
      },
      "source": [
        "from google.colab import drive\n",
        "drive.mount('/gdrive')"
      ],
      "execution_count": 0,
      "outputs": []
    },
    {
      "cell_type": "code",
      "metadata": {
        "id": "SqaHoNYkQ93M",
        "colab_type": "code",
        "colab": {}
      },
      "source": [
        "data=pd.read_csv('/gdrive/My Drive/Colab Notebooks/Iris.csv')"
      ],
      "execution_count": 0,
      "outputs": []
    },
    {
      "cell_type": "code",
      "metadata": {
        "id": "kw5MzPXeRLdw",
        "colab_type": "code",
        "colab": {}
      },
      "source": [
        "y=pd.DataFrame(data['Species'])\n",
        "y"
      ],
      "execution_count": 0,
      "outputs": []
    },
    {
      "cell_type": "code",
      "metadata": {
        "id": "2jRUPCJaRPjy",
        "colab_type": "code",
        "colab": {}
      },
      "source": [
        "x=pd.DataFrame(data[['SepalLengthCm','SepalWidthCm','PetalLengthCm','PetalWidthCm']])\n",
        "x"
      ],
      "execution_count": 0,
      "outputs": []
    },
    {
      "cell_type": "code",
      "metadata": {
        "id": "ozfYOy_7RS3X",
        "colab_type": "code",
        "colab": {}
      },
      "source": [
        "gmm = GaussianMixture(n_components=3)"
      ],
      "execution_count": 0,
      "outputs": []
    },
    {
      "cell_type": "code",
      "metadata": {
        "id": "fzjVCOQ2RpB0",
        "colab_type": "code",
        "colab": {}
      },
      "source": [
        "gmm.fit(x)"
      ],
      "execution_count": 0,
      "outputs": []
    },
    {
      "cell_type": "code",
      "metadata": {
        "id": "w3e2qmISRzjn",
        "colab_type": "code",
        "colab": {}
      },
      "source": [
        "proba_lists=gmm.predict_proba(x)"
      ],
      "execution_count": 0,
      "outputs": []
    },
    {
      "cell_type": "code",
      "metadata": {
        "id": "yITBWgSFR703",
        "colab_type": "code",
        "colab": {}
      },
      "source": [
        "proba_lists"
      ],
      "execution_count": 0,
      "outputs": []
    },
    {
      "cell_type": "code",
      "metadata": {
        "id": "fX7K7E3cR-W2",
        "colab_type": "code",
        "colab": {}
      },
      "source": [
        "proba_lists.shape"
      ],
      "execution_count": 0,
      "outputs": []
    },
    {
      "cell_type": "code",
      "metadata": {
        "id": "-Eg_ldlMSJWl",
        "colab_type": "code",
        "colab": {}
      },
      "source": [
        "# colored arrays\n",
        "\n",
        "colored_arrays=np.matrix(proba_lists)"
      ],
      "execution_count": 0,
      "outputs": []
    },
    {
      "cell_type": "code",
      "metadata": {
        "id": "MnhqsDSQSdbf",
        "colab_type": "code",
        "colab": {}
      },
      "source": [
        "colored_arrays"
      ],
      "execution_count": 0,
      "outputs": []
    },
    {
      "cell_type": "code",
      "metadata": {
        "id": "subVhTk8Sfyf",
        "colab_type": "code",
        "colab": {}
      },
      "source": [
        "colored_arrays.dtype"
      ],
      "execution_count": 0,
      "outputs": []
    },
    {
      "cell_type": "code",
      "metadata": {
        "id": "bwaTTtEfSnFW",
        "colab_type": "code",
        "colab": {}
      },
      "source": [
        "colored_tuples=[tuple(i.tolist()[0]) for i in colored_arrays ]"
      ],
      "execution_count": 0,
      "outputs": []
    },
    {
      "cell_type": "code",
      "metadata": {
        "id": "nJltoWwBTDRg",
        "colab_type": "code",
        "colab": {}
      },
      "source": [
        "colored_tuples"
      ],
      "execution_count": 0,
      "outputs": []
    },
    {
      "cell_type": "code",
      "metadata": {
        "id": "PtjQ6JNjTFI0",
        "colab_type": "code",
        "colab": {}
      },
      "source": [
        "fig=plt.figure(1,figsize=(7,7))\n",
        "ax=Axes3D(fig,rect=[0,0,0.95,1],elev=48,azim=134)\n",
        "ax.scatter(x.iloc[:,3],x.iloc[:,0],x.iloc[:,2],c=colored_tuples,edgecolor='k',s=50)\n",
        "ax.set_xlabel('petal width')\n",
        "ax.set_ylabel('sepal length')\n",
        "ax.set_zlabel('petal length')\n",
        "plt.title('GMM',fontsize=14)"
      ],
      "execution_count": 0,
      "outputs": []
    },
    {
      "cell_type": "code",
      "metadata": {
        "id": "MgCr1NQUUe89",
        "colab_type": "code",
        "colab": {}
      },
      "source": [
        ""
      ],
      "execution_count": 0,
      "outputs": []
    },
    {
      "cell_type": "markdown",
      "metadata": {
        "id": "C2IzZYy5V_43",
        "colab_type": "text"
      },
      "source": [
        "data points which are near to centroid are indicated with dark color"
      ]
    },
    {
      "cell_type": "code",
      "metadata": {
        "id": "gFsaJjPxWIIJ",
        "colab_type": "code",
        "colab": {}
      },
      "source": [
        ""
      ],
      "execution_count": 0,
      "outputs": []
    },
    {
      "cell_type": "markdown",
      "metadata": {
        "id": "2h_B-byJWI1u",
        "colab_type": "text"
      },
      "source": [
        "some points are boundary points means these points are far away from the centroid but these may belong to 2 clusters. so boundary points are indicated by purple color"
      ]
    },
    {
      "cell_type": "code",
      "metadata": {
        "id": "i28UCcaYWuYk",
        "colab_type": "code",
        "colab": {}
      },
      "source": [
        ""
      ],
      "execution_count": 0,
      "outputs": []
    },
    {
      "cell_type": "markdown",
      "metadata": {
        "id": "-qgR1JqZW0U_",
        "colab_type": "text"
      },
      "source": [
        "k means not differentiate the boundary points because it works on the highest probability belonging to that cluster."
      ]
    },
    {
      "cell_type": "code",
      "metadata": {
        "id": "fj1WPLZoXD4Z",
        "colab_type": "code",
        "colab": {}
      },
      "source": [
        ""
      ],
      "execution_count": 0,
      "outputs": []
    },
    {
      "cell_type": "markdown",
      "metadata": {
        "id": "nih7t4gdXE4p",
        "colab_type": "text"
      },
      "source": [
        "so  kmeans called hard cluster"
      ]
    },
    {
      "cell_type": "code",
      "metadata": {
        "id": "NqZTVWC0XYh_",
        "colab_type": "code",
        "colab": {}
      },
      "source": [
        ""
      ],
      "execution_count": 0,
      "outputs": []
    },
    {
      "cell_type": "markdown",
      "metadata": {
        "id": "jqh7zvQ6XcCs",
        "colab_type": "text"
      },
      "source": [
        "but gmm does work like that"
      ]
    },
    {
      "cell_type": "code",
      "metadata": {
        "id": "SgFkaN5OXcwq",
        "colab_type": "code",
        "colab": {}
      },
      "source": [
        ""
      ],
      "execution_count": 0,
      "outputs": []
    }
  ]
}